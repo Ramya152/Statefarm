{
 "cells": [
  {
   "cell_type": "markdown",
   "id": "3f27fdd4-02f3-4c8a-98c7-4d1085326ce4",
   "metadata": {},
   "source": [
    "### Reading our data stored in parquet format"
   ]
  },
  {
   "cell_type": "code",
   "execution_count": 3,
   "id": "5dd0169a-54f9-4252-b879-b732989e0219",
   "metadata": {},
   "outputs": [],
   "source": [
    "import pandas as pd\n",
    "df = pd.read_parquet('final_data.parquet')"
   ]
  },
  {
   "cell_type": "code",
   "execution_count": 4,
   "id": "11c2b7a2-a8f8-4c26-9652-8ad0a16c1d80",
   "metadata": {},
   "outputs": [
    {
     "data": {
      "text/html": [
       "<div>\n",
       "<style scoped>\n",
       "    .dataframe tbody tr th:only-of-type {\n",
       "        vertical-align: middle;\n",
       "    }\n",
       "\n",
       "    .dataframe tbody tr th {\n",
       "        vertical-align: top;\n",
       "    }\n",
       "\n",
       "    .dataframe thead th {\n",
       "        text-align: right;\n",
       "    }\n",
       "</style>\n",
       "<table border=\"1\" class=\"dataframe\">\n",
       "  <thead>\n",
       "    <tr style=\"text-align: right;\">\n",
       "      <th></th>\n",
       "      <th>Car_Id</th>\n",
       "      <th>Status</th>\n",
       "      <th>State_x</th>\n",
       "      <th>Model_Year</th>\n",
       "      <th>Make</th>\n",
       "      <th>Body_Style</th>\n",
       "      <th>Vehicle_Value</th>\n",
       "      <th>Annual_Miles_Driven</th>\n",
       "      <th>Business_Use</th>\n",
       "      <th>Antique_Vehicle</th>\n",
       "      <th>...</th>\n",
       "      <th>Hh_Start_Date</th>\n",
       "      <th>Phone_Number</th>\n",
       "      <th>Zip_</th>\n",
       "      <th>State_y</th>\n",
       "      <th>Country</th>\n",
       "      <th>Referral_Source</th>\n",
       "      <th>Date_Of_Birth</th>\n",
       "      <th>Marital_Status</th>\n",
       "      <th>Employment_Type</th>\n",
       "      <th>Income</th>\n",
       "    </tr>\n",
       "  </thead>\n",
       "  <tbody>\n",
       "    <tr>\n",
       "      <th>0</th>\n",
       "      <td>844435</td>\n",
       "      <td>In Force</td>\n",
       "      <td>OK</td>\n",
       "      <td>1990</td>\n",
       "      <td>Manufacturer7</td>\n",
       "      <td>4 door</td>\n",
       "      <td>50000.0</td>\n",
       "      <td>56</td>\n",
       "      <td>0</td>\n",
       "      <td>1</td>\n",
       "      <td>...</td>\n",
       "      <td>2022-11-18</td>\n",
       "      <td>(709) 379-9036</td>\n",
       "      <td>70442</td>\n",
       "      <td>OK</td>\n",
       "      <td>USA</td>\n",
       "      <td>Other</td>\n",
       "      <td>2002-11-06</td>\n",
       "      <td>D</td>\n",
       "      <td>Student</td>\n",
       "      <td>0</td>\n",
       "    </tr>\n",
       "    <tr>\n",
       "      <th>1</th>\n",
       "      <td>844435</td>\n",
       "      <td>In Force</td>\n",
       "      <td>AL</td>\n",
       "      <td>1955</td>\n",
       "      <td>Manufacturer2</td>\n",
       "      <td>4 door</td>\n",
       "      <td>500.0</td>\n",
       "      <td>14800</td>\n",
       "      <td>0</td>\n",
       "      <td>0</td>\n",
       "      <td>...</td>\n",
       "      <td>2022-11-18</td>\n",
       "      <td>(709) 379-9036</td>\n",
       "      <td>70442</td>\n",
       "      <td>OK</td>\n",
       "      <td>USA</td>\n",
       "      <td>Other</td>\n",
       "      <td>2002-11-06</td>\n",
       "      <td>D</td>\n",
       "      <td>Student</td>\n",
       "      <td>0</td>\n",
       "    </tr>\n",
       "    <tr>\n",
       "      <th>2</th>\n",
       "      <td>844435</td>\n",
       "      <td>Customer Cancellation</td>\n",
       "      <td>OH</td>\n",
       "      <td>1973</td>\n",
       "      <td>Manufacturer2</td>\n",
       "      <td>SUV</td>\n",
       "      <td>500.0</td>\n",
       "      <td>8439</td>\n",
       "      <td>0</td>\n",
       "      <td>0</td>\n",
       "      <td>...</td>\n",
       "      <td>2022-11-18</td>\n",
       "      <td>(709) 379-9036</td>\n",
       "      <td>70442</td>\n",
       "      <td>OK</td>\n",
       "      <td>USA</td>\n",
       "      <td>Other</td>\n",
       "      <td>2002-11-06</td>\n",
       "      <td>D</td>\n",
       "      <td>Student</td>\n",
       "      <td>0</td>\n",
       "    </tr>\n",
       "    <tr>\n",
       "      <th>3</th>\n",
       "      <td>844435</td>\n",
       "      <td>In Force</td>\n",
       "      <td>OK</td>\n",
       "      <td>1990</td>\n",
       "      <td>Manufacturer7</td>\n",
       "      <td>4 door</td>\n",
       "      <td>50000.0</td>\n",
       "      <td>56</td>\n",
       "      <td>0</td>\n",
       "      <td>1</td>\n",
       "      <td>...</td>\n",
       "      <td>1995-01-26</td>\n",
       "      <td>(539) 357-6171</td>\n",
       "      <td>73146</td>\n",
       "      <td>AL</td>\n",
       "      <td>USA</td>\n",
       "      <td>Friend</td>\n",
       "      <td>2035-08-01</td>\n",
       "      <td>M</td>\n",
       "      <td>Retired</td>\n",
       "      <td>0</td>\n",
       "    </tr>\n",
       "    <tr>\n",
       "      <th>4</th>\n",
       "      <td>844435</td>\n",
       "      <td>In Force</td>\n",
       "      <td>AL</td>\n",
       "      <td>1955</td>\n",
       "      <td>Manufacturer2</td>\n",
       "      <td>4 door</td>\n",
       "      <td>500.0</td>\n",
       "      <td>14800</td>\n",
       "      <td>0</td>\n",
       "      <td>0</td>\n",
       "      <td>...</td>\n",
       "      <td>1995-01-26</td>\n",
       "      <td>(539) 357-6171</td>\n",
       "      <td>73146</td>\n",
       "      <td>AL</td>\n",
       "      <td>USA</td>\n",
       "      <td>Friend</td>\n",
       "      <td>2035-08-01</td>\n",
       "      <td>M</td>\n",
       "      <td>Retired</td>\n",
       "      <td>0</td>\n",
       "    </tr>\n",
       "  </tbody>\n",
       "</table>\n",
       "<p>5 rows × 29 columns</p>\n",
       "</div>"
      ],
      "text/plain": [
       "   Car_Id                 Status State_x  Model_Year           Make  \\\n",
       "0  844435               In Force      OK        1990  Manufacturer7   \n",
       "1  844435               In Force      AL        1955  Manufacturer2   \n",
       "2  844435  Customer Cancellation      OH        1973  Manufacturer2   \n",
       "3  844435               In Force      OK        1990  Manufacturer7   \n",
       "4  844435               In Force      AL        1955  Manufacturer2   \n",
       "\n",
       "  Body_Style  Vehicle_Value  Annual_Miles_Driven  Business_Use  \\\n",
       "0     4 door        50000.0                   56             0   \n",
       "1     4 door          500.0                14800             0   \n",
       "2        SUV          500.0                 8439             0   \n",
       "3     4 door        50000.0                   56             0   \n",
       "4     4 door          500.0                14800             0   \n",
       "\n",
       "   Antique_Vehicle  ...  Hh_Start_Date    Phone_Number   Zip_  State_y  \\\n",
       "0                1  ...     2022-11-18  (709) 379-9036  70442       OK   \n",
       "1                0  ...     2022-11-18  (709) 379-9036  70442       OK   \n",
       "2                0  ...     2022-11-18  (709) 379-9036  70442       OK   \n",
       "3                1  ...     1995-01-26  (539) 357-6171  73146       AL   \n",
       "4                0  ...     1995-01-26  (539) 357-6171  73146       AL   \n",
       "\n",
       "   Country  Referral_Source  Date_Of_Birth  Marital_Status  Employment_Type  \\\n",
       "0      USA            Other     2002-11-06               D          Student   \n",
       "1      USA            Other     2002-11-06               D          Student   \n",
       "2      USA            Other     2002-11-06               D          Student   \n",
       "3      USA           Friend     2035-08-01               M          Retired   \n",
       "4      USA           Friend     2035-08-01               M          Retired   \n",
       "\n",
       "  Income  \n",
       "0      0  \n",
       "1      0  \n",
       "2      0  \n",
       "3      0  \n",
       "4      0  \n",
       "\n",
       "[5 rows x 29 columns]"
      ]
     },
     "execution_count": 4,
     "metadata": {},
     "output_type": "execute_result"
    }
   ],
   "source": [
    "df.head()"
   ]
  },
  {
   "cell_type": "markdown",
   "id": "d832a342-299f-4217-b9b4-101e265dc0fc",
   "metadata": {},
   "source": [
    "### Checking columns before analysis"
   ]
  },
  {
   "cell_type": "code",
   "execution_count": 5,
   "id": "863559b7-fc26-4028-a266-8567f4125822",
   "metadata": {},
   "outputs": [
    {
     "name": "stdout",
     "output_type": "stream",
     "text": [
      "   Car_Id                 Status State_x  Model_Year           Make  \\\n",
      "0  844435               In Force      OK        1990  Manufacturer7   \n",
      "1  844435               In Force      AL        1955  Manufacturer2   \n",
      "2  844435  Customer Cancellation      OH        1973  Manufacturer2   \n",
      "3  844435               In Force      OK        1990  Manufacturer7   \n",
      "4  844435               In Force      AL        1955  Manufacturer2   \n",
      "\n",
      "  Body_Style  Vehicle_Value  Annual_Miles_Driven  Business_Use  \\\n",
      "0     4 door        50000.0                   56             0   \n",
      "1     4 door          500.0                14800             0   \n",
      "2        SUV          500.0                 8439             0   \n",
      "3     4 door        50000.0                   56             0   \n",
      "4     4 door          500.0                14800             0   \n",
      "\n",
      "   Antique_Vehicle  Lien  Lease  Driver_Safety_Discount  \\\n",
      "0                1     1      0                       0   \n",
      "1                0     1      0                       0   \n",
      "2                0     0      0                       0   \n",
      "3                1     1      0                       0   \n",
      "4                0     1      0                       0   \n",
      "\n",
      "   Vehicle_Safety_Discount  Claim_Payout  6_Month_Premium_Amount      Hh_Id  \\\n",
      "0                        1             0               42.890000  219790301   \n",
      "1                        0             0              452.814770  219790301   \n",
      "2                        0             0              380.678401  219790301   \n",
      "3                        1             0               42.890000  604177382   \n",
      "4                        0             0              452.814770  604177382   \n",
      "\n",
      "     Cust_Id  Active_Hh Hh_Start_Date    Phone_Number   Zip_ State_y Country  \\\n",
      "0  801198110          1    2022-11-18  (709) 379-9036  70442      OK     USA   \n",
      "1  801198110          1    2022-11-18  (709) 379-9036  70442      OK     USA   \n",
      "2  801198110          1    2022-11-18  (709) 379-9036  70442      OK     USA   \n",
      "3  218284075          1    1995-01-26  (539) 357-6171  73146      AL     USA   \n",
      "4  218284075          1    1995-01-26  (539) 357-6171  73146      AL     USA   \n",
      "\n",
      "  Referral_Source Date_Of_Birth Marital_Status Employment_Type Income  \n",
      "0           Other    2002-11-06              D         Student      0  \n",
      "1           Other    2002-11-06              D         Student      0  \n",
      "2           Other    2002-11-06              D         Student      0  \n",
      "3          Friend    2035-08-01              M         Retired      0  \n",
      "4          Friend    2035-08-01              M         Retired      0  \n"
     ]
    }
   ],
   "source": [
    "pd.set_option('display.max_columns', None)\n",
    "print(df.head())"
   ]
  },
  {
   "cell_type": "code",
   "execution_count": 11,
   "id": "d6277b75-8bd3-46cc-a568-e7d474dc82fb",
   "metadata": {},
   "outputs": [
    {
     "name": "stdout",
     "output_type": "stream",
     "text": [
      "<class 'pandas.core.frame.DataFrame'>\n",
      "RangeIndex: 845805 entries, 0 to 845804\n",
      "Data columns (total 29 columns):\n",
      " #   Column                   Non-Null Count   Dtype         \n",
      "---  ------                   --------------   -----         \n",
      " 0   Car_Id                   845805 non-null  int64         \n",
      " 1   Status                   845805 non-null  object        \n",
      " 2   State_x                  845805 non-null  object        \n",
      " 3   Model_Year               845805 non-null  int64         \n",
      " 4   Make                     845805 non-null  object        \n",
      " 5   Body_Style               845805 non-null  object        \n",
      " 6   Vehicle_Value            845805 non-null  float64       \n",
      " 7   Annual_Miles_Driven      845805 non-null  int64         \n",
      " 8   Business_Use             845805 non-null  int64         \n",
      " 9   Antique_Vehicle          845805 non-null  int64         \n",
      " 10  Lien                     845805 non-null  int64         \n",
      " 11  Lease                    845805 non-null  int64         \n",
      " 12  Driver_Safety_Discount   845805 non-null  int64         \n",
      " 13  Vehicle_Safety_Discount  845805 non-null  int64         \n",
      " 14  Claim_Payout             845805 non-null  int64         \n",
      " 15  6_Month_Premium_Amount   845805 non-null  float64       \n",
      " 16  Hh_Id                    845805 non-null  int64         \n",
      " 17  Cust_Id                  845805 non-null  int64         \n",
      " 18  Active_Hh                845805 non-null  int64         \n",
      " 19  Hh_Start_Date            845805 non-null  datetime64[ns]\n",
      " 20  Phone_Number             845805 non-null  object        \n",
      " 21  Zip_                     845805 non-null  int64         \n",
      " 22  State_y                  845805 non-null  object        \n",
      " 23  Country                  845805 non-null  object        \n",
      " 24  Referral_Source          845805 non-null  object        \n",
      " 25  Date_Of_Birth            845805 non-null  datetime64[ns]\n",
      " 26  Marital_Status           845805 non-null  object        \n",
      " 27  Employment_Type          845805 non-null  object        \n",
      " 28  Income                   845805 non-null  object        \n",
      "dtypes: datetime64[ns](2), float64(2), int64(14), object(11)\n",
      "memory usage: 187.1+ MB\n"
     ]
    }
   ],
   "source": [
    "df.info()"
   ]
  },
  {
   "cell_type": "markdown",
   "id": "5b8052da-fe43-40a1-8e04-c64cfeb985b0",
   "metadata": {},
   "source": [
    "### Firstly, let's choose the active households"
   ]
  },
  {
   "cell_type": "code",
   "execution_count": 14,
   "id": "898bc7cb-ee74-47b6-a732-11f66b95efd6",
   "metadata": {},
   "outputs": [],
   "source": [
    "active_hh = df[df['Active_Hh'] == 1]"
   ]
  },
  {
   "cell_type": "markdown",
   "id": "19b9e738-5c6d-49b1-8462-70af42088c21",
   "metadata": {},
   "source": [
    "### 1. What is the average number of cars per household?"
   ]
  },
  {
   "cell_type": "code",
   "execution_count": 16,
   "id": "f0756506-cad0-44da-a628-b6e95b77be4d",
   "metadata": {},
   "outputs": [
    {
     "name": "stdout",
     "output_type": "stream",
     "text": [
      "Average number of cars per household are:  6.438854658172808\n"
     ]
    }
   ],
   "source": [
    "avg_cars_per_hh = active_hh.groupby('Hh_Id')['Car_Id'].count().mean()\n",
    "print(\"Average number of cars per household are: \",avg_cars_per_hh)"
   ]
  },
  {
   "cell_type": "markdown",
   "id": "55426fe2-27cc-4d08-9996-8b505201147e",
   "metadata": {},
   "source": [
    "Looks like the average number of cars that each household has are around 6"
   ]
  },
  {
   "cell_type": "markdown",
   "id": "1a45bc7c-95ad-4350-b65e-96c6872ef931",
   "metadata": {},
   "source": [
    "### 2. How many cars are there by model year?"
   ]
  },
  {
   "cell_type": "code",
   "execution_count": 18,
   "id": "731ae21a-0dc6-40d6-8edc-f3dec4be5043",
   "metadata": {},
   "outputs": [
    {
     "name": "stdout",
     "output_type": "stream",
     "text": [
      "Model_Year\n",
      "1952     3455\n",
      "1953     3361\n",
      "1954     3528\n",
      "1955     3397\n",
      "1956     3352\n",
      "        ...  \n",
      "2020    21909\n",
      "2021    22289\n",
      "2022    22041\n",
      "2023    21979\n",
      "2024    22195\n",
      "Name: count, Length: 73, dtype: int64\n"
     ]
    }
   ],
   "source": [
    "no_of_cars_modelyr = active_hh['Model_Year'].value_counts().sort_index()\n",
    "print(no_of_cars_modelyr)"
   ]
  },
  {
   "cell_type": "markdown",
   "id": "f03a3032-353b-416c-bd8f-223661a5b0d3",
   "metadata": {},
   "source": [
    "Let's see the full output in the form of dictionary instead of the truncated output to better see the number of cars pers each year"
   ]
  },
  {
   "cell_type": "code",
   "execution_count": 26,
   "id": "848f24c2-8871-4052-a387-e65edd8ecb32",
   "metadata": {},
   "outputs": [
    {
     "name": "stdout",
     "output_type": "stream",
     "text": [
      "1952: 3455\n",
      "1953: 3361\n",
      "1954: 3528\n",
      "1955: 3397\n",
      "1956: 3352\n",
      "1957: 3354\n",
      "1958: 3494\n",
      "1959: 3378\n",
      "1960: 3351\n",
      "1961: 3354\n",
      "1962: 3427\n",
      "1963: 3335\n",
      "1964: 3392\n",
      "1965: 3371\n",
      "1966: 3343\n",
      "1967: 3462\n",
      "1968: 3344\n",
      "1969: 3375\n",
      "1970: 3362\n",
      "1971: 3479\n",
      "1972: 3455\n",
      "1973: 3340\n",
      "1974: 3277\n",
      "1975: 3447\n",
      "1976: 3543\n",
      "1977: 3393\n",
      "1978: 3414\n",
      "1979: 3444\n",
      "1980: 3269\n",
      "1981: 3477\n",
      "1982: 3621\n",
      "1983: 3349\n",
      "1984: 3403\n",
      "1985: 3336\n",
      "1986: 3438\n",
      "1987: 3326\n",
      "1988: 3463\n",
      "1989: 3487\n",
      "1990: 3428\n",
      "1991: 3377\n",
      "1992: 3327\n",
      "1993: 3382\n",
      "1994: 3435\n",
      "1995: 3386\n",
      "1996: 3318\n",
      "1997: 3421\n",
      "1998: 3393\n",
      "1999: 3451\n",
      "2000: 3346\n",
      "2001: 3416\n",
      "2002: 21877\n",
      "2003: 22033\n",
      "2004: 22382\n",
      "2005: 22023\n",
      "2006: 22102\n",
      "2007: 22295\n",
      "2008: 22028\n",
      "2009: 22425\n",
      "2010: 21833\n",
      "2011: 22317\n",
      "2012: 21956\n",
      "2013: 21941\n",
      "2014: 21896\n",
      "2015: 22142\n",
      "2016: 22328\n",
      "2017: 22386\n",
      "2018: 21768\n",
      "2019: 21990\n",
      "2020: 21909\n",
      "2021: 22289\n",
      "2022: 22041\n",
      "2023: 21979\n",
      "2024: 22195\n"
     ]
    }
   ],
   "source": [
    "cars_dict = no_of_cars_modelyr.to_dict()\n",
    "for key, value in cars_dict.items():\n",
    "    print(f\"{key}: {value}\")"
   ]
  },
  {
   "cell_type": "markdown",
   "id": "4b60197f-9319-4eaf-bc77-a803092438b9",
   "metadata": {},
   "source": [
    "### 3. How many cars are there by make?"
   ]
  },
  {
   "cell_type": "code",
   "execution_count": 28,
   "id": "c658b9dc-dce0-42d1-a548-c1d1eac72731",
   "metadata": {},
   "outputs": [
    {
     "name": "stdout",
     "output_type": "stream",
     "text": [
      "Make\n",
      "Manufacturer2    135862\n",
      "Manufacturer1    135577\n",
      "Manufacturer3    135326\n",
      "Manufacturer6     88643\n",
      "Manufacturer7     88553\n",
      "Manufacturer4     47160\n",
      "Manufacturer5     47090\n",
      "Name: count, dtype: int64\n"
     ]
    }
   ],
   "source": [
    "no_of_cars_make = active_hh['Make'].value_counts()\n",
    "print(no_of_cars_make)"
   ]
  },
  {
   "cell_type": "markdown",
   "id": "fd4c98e8-111e-4f19-a281-9a1253f4a208",
   "metadata": {},
   "source": [
    "We can observe that Manufacturer2 has made the highest cars whereas Manufacturer5 made the least"
   ]
  },
  {
   "cell_type": "markdown",
   "id": "69a79d18-5872-4809-964a-681f141867b9",
   "metadata": {},
   "source": [
    "### 4. Which cars are the safest?  What variables did you consider to define “safe”?"
   ]
  },
  {
   "cell_type": "code",
   "execution_count": 29,
   "id": "c1d64e1c-724c-4003-b8dc-f10b4bc44663",
   "metadata": {},
   "outputs": [
    {
     "name": "stdout",
     "output_type": "stream",
     "text": [
      "[0 1]\n"
     ]
    }
   ],
   "source": [
    "print(df['Driver_Safety_Discount'].unique()) # just checking if it has bool values"
   ]
  },
  {
   "cell_type": "code",
   "execution_count": 56,
   "id": "0b31c9c9-1e9e-4094-aec5-24bb5ad8244c",
   "metadata": {},
   "outputs": [
    {
     "name": "stdout",
     "output_type": "stream",
     "text": [
      "              Make  Model_Year  Count\n",
      "218  Manufacturer3        2024   1139\n",
      "217  Manufacturer3        2023   1114\n",
      "216  Manufacturer3        2022   1102\n",
      "507  Manufacturer7        2021   1090\n",
      "508  Manufacturer7        2022   1063\n"
     ]
    }
   ],
   "source": [
    "grouped_cars = active_hh.groupby('Car_Id').agg({\n",
    "    'Annual_Miles_Driven': 'mean',\n",
    "    'Vehicle_Safety_Discount': 'max',\n",
    "    'Claim_Payout': 'max',\n",
    "    'Make': 'first',\n",
    "    'Model_Year': 'first'\n",
    "}).reset_index()\n",
    "\n",
    "#selecting cars with the chosen safety features and driven less than 100,000 miles\n",
    "safe_cars = grouped_cars[\n",
    "    (grouped_cars['Vehicle_Safety_Discount'] == 1) & \n",
    "    (grouped_cars['Claim_Payout'] == 0) &\n",
    "    (grouped_cars['Annual_Miles_Driven'] < 100000)\n",
    "]\n",
    "#counting the occurrences of each make and model year\n",
    "make_model_count = safe_cars.groupby(['Make', 'Model_Year']).size().reset_index(name='Count')\n",
    "#sorting in descending order to get the most common makes and model years\n",
    "best_make_model = make_model_count.sort_values(by='Count', ascending=False)\n",
    "#picking the top 5 combinations of make and model year\n",
    "top_5_make_model = best_make_model.head(5)\n",
    "print(top_5_make_model)"
   ]
  },
  {
   "cell_type": "markdown",
   "id": "ca35d656-ea3a-4e16-ac3f-f7a50c08ea31",
   "metadata": {},
   "source": [
    "First, I checked the Vehicle Safety Discount. If a car has this discount, it means that insurance companies think it’s safe, which is a good sign.\n",
    "\n",
    "Then I looked at Claim Payout. If a car has a zero payout, it means there haven't been any big accidents, so it seems like a safer car.\n",
    "\n",
    "I also thought about how many miles the car has been driven each year. If a car has been driven less than 100,000 miles, it usually means it has been on the road less and has fewer chances to be in an accident.\n",
    "\n",
    "By putting all these pieces together, I could find cars that are not just labeled as safe by the insurance companies but also haven’t had many accidents and haven’t been driven much.\n",
    "\n",
    "After that, I wanted to see which makes and model years were the most common among these safer cars. This helps people know which brands or years are known for being safer, making it easier for them to choose a good car.\n",
    "\n",
    "In the end, I found some recommendations for safe cars based on the data, which is super helpful for anyone looking to buy a vehicle. "
   ]
  },
  {
   "cell_type": "markdown",
   "id": "338b2e4c-3301-43cb-bc4c-f9639cbe86a2",
   "metadata": {},
   "source": [
    "### 5. Which states have the largest households (defined as number of customers in a household)?"
   ]
  },
  {
   "cell_type": "code",
   "execution_count": 57,
   "id": "fa9deb9f-37af-4af1-9bd7-cacf69c718d7",
   "metadata": {},
   "outputs": [
    {
     "name": "stdout",
     "output_type": "stream",
     "text": [
      "State_y\n",
      "KY    8469\n",
      "AK    8421\n",
      "SC    8415\n",
      "AR    8335\n",
      "MA    8320\n",
      "AL    8319\n",
      "MN    8311\n",
      "WY    8285\n",
      "WA    8282\n",
      "NV    8274\n",
      "CT    8267\n",
      "MI    8234\n",
      "HI    8210\n",
      "NE    8190\n",
      "GA    8180\n",
      "SD    8176\n",
      "NY    8168\n",
      "NM    8150\n",
      "IN    8106\n",
      "MO    8099\n",
      "MS    8055\n",
      "RI    8038\n",
      "OR    8032\n",
      "TX    8010\n",
      "AZ    8004\n",
      "FL    7986\n",
      "ND    7958\n",
      "UT    7952\n",
      "WV    7948\n",
      "IL    7941\n",
      "OH    7922\n",
      "CA    7912\n",
      "NH    7905\n",
      "MT    7901\n",
      "NC    7894\n",
      "ME    7893\n",
      "NJ    7871\n",
      "VA    7856\n",
      "WI    7849\n",
      "IA    7834\n",
      "MD    7828\n",
      "KS    7823\n",
      "OK    7793\n",
      "DE    7791\n",
      "ID    7774\n",
      "LA    7750\n",
      "VT    7705\n",
      "PA    7647\n",
      "TN    7588\n",
      "CO    7524\n",
      "Name: Cust_Id, dtype: int64\n"
     ]
    }
   ],
   "source": [
    "largest_households = active_hh.groupby('State_y')['Cust_Id'].nunique().sort_values(ascending=False)\n",
    "print(largest_households)"
   ]
  },
  {
   "cell_type": "markdown",
   "id": "d5319776-3507-48e8-a463-970ccc3f22cc",
   "metadata": {},
   "source": [
    "I believe 'State_x' column reflects where the car is registered or insured, so I used 'State_y' instead.\n",
    "\n",
    "We can see that the state with largest households in our data is Knetucky with 8469 households."
   ]
  },
  {
   "cell_type": "markdown",
   "id": "c3e72d50-2f5f-4510-ba1c-3561cf02620f",
   "metadata": {},
   "source": [
    "### 6. How many active households are there as of 1/1/2021?"
   ]
  },
  {
   "cell_type": "code",
   "execution_count": 58,
   "id": "c0ed33ab-11c1-4e63-aba5-d1367bc1c4cb",
   "metadata": {},
   "outputs": [
    {
     "name": "stdout",
     "output_type": "stream",
     "text": [
      "Number of active households as of 1/1/2021 are 621082\n"
     ]
    }
   ],
   "source": [
    "no_of_active_households = active_hh[active_hh['Hh_Start_Date'] <= '2021-01-01'].shape[0]\n",
    "print(\"Number of active households as of 1/1/2021 are\", no_of_active_households)"
   ]
  },
  {
   "cell_type": "markdown",
   "id": "01aacddf-c5bb-4078-ac62-a1f6e6953e7f",
   "metadata": {},
   "source": [
    "### 7. What is the average age of customers?"
   ]
  },
  {
   "cell_type": "code",
   "execution_count": 59,
   "id": "fa918990-45a0-41ab-aac3-5f900424a0d1",
   "metadata": {},
   "outputs": [
    {
     "name": "stdout",
     "output_type": "stream",
     "text": [
      "Average age of customers is  6.694062762178732 years\n"
     ]
    },
    {
     "name": "stderr",
     "output_type": "stream",
     "text": [
      "/var/folders/pv/kll1prqs39jc2wvhvd31dfmr0000gn/T/ipykernel_7396/1051416248.py:2: SettingWithCopyWarning: \n",
      "A value is trying to be set on a copy of a slice from a DataFrame.\n",
      "Try using .loc[row_indexer,col_indexer] = value instead\n",
      "\n",
      "See the caveats in the documentation: https://pandas.pydata.org/pandas-docs/stable/user_guide/indexing.html#returning-a-view-versus-a-copy\n",
      "  active_hh['Age'] = (datetime.now() - active_hh['Date_Of_Birth']).dt.days // 365\n"
     ]
    }
   ],
   "source": [
    "from datetime import datetime\n",
    "active_hh['Age'] = (datetime.now() - active_hh['Date_Of_Birth']).dt.days // 365\n",
    "\n",
    "average_age = active_hh['Age'].mean()\n",
    "print(\"Average age of customers is \", average_age, \"years\")"
   ]
  },
  {
   "cell_type": "markdown",
   "id": "61760b59-a837-4739-8b27-606faaecfad2",
   "metadata": {},
   "source": [
    "The average age of customers appears to be around 6-7 years, which seems unusually low. This is likely due to incorrect dates of birth in the dataset, as some entries have future years like 2035, 2030 etc."
   ]
  },
  {
   "cell_type": "markdown",
   "id": "abfd7976-3b51-4421-af97-73209462b1fb",
   "metadata": {},
   "source": [
    "### 8. How much does age vary by region?"
   ]
  },
  {
   "cell_type": "code",
   "execution_count": 60,
   "id": "da065e0b-a5ad-4d93-a08e-c13cd2df8f16",
   "metadata": {},
   "outputs": [
    {
     "name": "stdout",
     "output_type": "stream",
     "text": [
      "State_y\n",
      "KS    5.810087\n",
      "AZ    6.042755\n",
      "ID    6.078821\n",
      "MI    6.094298\n",
      "CO    6.146912\n",
      "VT    6.152435\n",
      "IN    6.284193\n",
      "MS    6.305649\n",
      "HI    6.337557\n",
      "NH    6.356517\n",
      "AR    6.431744\n",
      "ME    6.432321\n",
      "NV    6.447848\n",
      "OK    6.535502\n",
      "PA    6.543306\n",
      "RI    6.553080\n",
      "NM    6.565708\n",
      "NY    6.618732\n",
      "MD    6.631240\n",
      "TN    6.653019\n",
      "MT    6.663015\n",
      "WI    6.665013\n",
      "FL    6.665637\n",
      "OR    6.698507\n",
      "UT    6.701130\n",
      "NE    6.714899\n",
      "CT    6.749694\n",
      "AL    6.776795\n",
      "NC    6.784102\n",
      "IA    6.807485\n",
      "MN    6.813659\n",
      "AK    6.832922\n",
      "SC    6.844500\n",
      "DE    6.846598\n",
      "VA    6.859173\n",
      "ND    6.886365\n",
      "IL    6.892871\n",
      "KY    6.910237\n",
      "MA    6.912776\n",
      "OH    6.925658\n",
      "TX    6.928003\n",
      "LA    6.933995\n",
      "WV    6.934750\n",
      "GA    7.002594\n",
      "WA    7.077952\n",
      "SD    7.220001\n",
      "NJ    7.230480\n",
      "CA    7.261976\n",
      "WY    7.411979\n",
      "MO    7.591138\n",
      "Name: Age, dtype: float64\n"
     ]
    }
   ],
   "source": [
    "age_by_region = active_hh.groupby('State_y')['Age'].mean().sort_values()\n",
    "print(age_by_region)"
   ]
  },
  {
   "cell_type": "markdown",
   "id": "dba8451a-7802-4d21-b377-b2f3ad553b68",
   "metadata": {},
   "source": [
    "Most states have an average age between 6 and 7 years(like the average age of customers found above). States like Kansas, Arizona, and Idaho have the lowest average ages, while Missouri and Wyoming have the highest. The consistently low average ages overall suggest that many customers may have birth dates inaccurately recorded as future years, which skews the true age distribution."
   ]
  },
  {
   "cell_type": "markdown",
   "id": "370e2af3-1b2f-4a58-b15a-ed0fee59bb34",
   "metadata": {},
   "source": [
    "### 9.Which age group has the most expensive claims? "
   ]
  },
  {
   "cell_type": "code",
   "execution_count": 61,
   "id": "d1d9c818-f850-401c-8825-9492e91a1f67",
   "metadata": {},
   "outputs": [
    {
     "name": "stdout",
     "output_type": "stream",
     "text": [
      "Age group with the most expensive claims is 15-20\n"
     ]
    },
    {
     "name": "stderr",
     "output_type": "stream",
     "text": [
      "/var/folders/pv/kll1prqs39jc2wvhvd31dfmr0000gn/T/ipykernel_7396/4285617393.py:4: SettingWithCopyWarning: \n",
      "A value is trying to be set on a copy of a slice from a DataFrame.\n",
      "Try using .loc[row_indexer,col_indexer] = value instead\n",
      "\n",
      "See the caveats in the documentation: https://pandas.pydata.org/pandas-docs/stable/user_guide/indexing.html#returning-a-view-versus-a-copy\n",
      "  active_hh['Age_Group'] = pd.cut(active_hh['Age'], bins=bins, labels=labels)\n",
      "/var/folders/pv/kll1prqs39jc2wvhvd31dfmr0000gn/T/ipykernel_7396/4285617393.py:6: FutureWarning: The default of observed=False is deprecated and will be changed to True in a future version of pandas. Pass observed=False to retain current behavior or observed=True to adopt the future default and silence this warning.\n",
      "  average_claim_by_age_group = active_hh.groupby('Age_Group')['Claim_Payout'].mean()\n"
     ]
    }
   ],
   "source": [
    "#making age groups(since our data has an average age of 6, I will consider small age groups here\n",
    "bins = [0, 5, 10, 15, 20, 25, 30]\n",
    "labels = ['<5', '5-10', '10-15', '15-20', '20-25', '25-30']\n",
    "active_hh['Age_Group'] = pd.cut(active_hh['Age'], bins=bins, labels=labels)\n",
    "\n",
    "average_claim_by_age_group = active_hh.groupby('Age_Group')['Claim_Payout'].mean()\n",
    "most_expensive_claims = average_claim_by_age_group.idxmax()\n",
    "print(\"Age group with the most expensive claims is\", most_expensive_claims)"
   ]
  },
  {
   "cell_type": "code",
   "execution_count": null,
   "id": "861d5dcf-4a8b-4e15-8511-0d2ecec848a9",
   "metadata": {},
   "outputs": [],
   "source": []
  }
 ],
 "metadata": {
  "kernelspec": {
   "display_name": "webapp2",
   "language": "python",
   "name": "webapp2"
  },
  "language_info": {
   "codemirror_mode": {
    "name": "ipython",
    "version": 3
   },
   "file_extension": ".py",
   "mimetype": "text/x-python",
   "name": "python",
   "nbconvert_exporter": "python",
   "pygments_lexer": "ipython3",
   "version": "3.10.13"
  }
 },
 "nbformat": 4,
 "nbformat_minor": 5
}
